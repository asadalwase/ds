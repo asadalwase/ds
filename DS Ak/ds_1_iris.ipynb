{
 "cells": [
  {
   "cell_type": "code",
   "execution_count": 2,
   "id": "f98e38af-c671-4fc3-86e6-e4f72accbcf8",
   "metadata": {},
   "outputs": [],
   "source": [
    "\n",
    "\n",
    "import pandas as pd\n",
    "import numpy as np\n",
    "from sklearn.preprocessing import LabelEncoder, MinMaxScaler"
   ]
  },
  {
   "cell_type": "code",
   "execution_count": 3,
   "id": "740e6be3-b0f0-4322-91ae-768eadb4efb9",
   "metadata": {},
   "outputs": [],
   "source": [
    "df = pd.read_csv(\"D:\\\\iris_dataset\\\\Iris.csv\")"
   ]
  },
  {
   "cell_type": "code",
   "execution_count": 4,
   "id": "14e61014-2abf-4cae-b7f2-d17d34fc7b04",
   "metadata": {},
   "outputs": [
    {
     "name": "stdout",
     "output_type": "stream",
     "text": [
      "   Id  SepalLengthCm  SepalWidthCm  PetalLengthCm  PetalWidthCm      Species\n",
      "0   1            5.1           3.5            1.4           0.2  Iris-setosa\n",
      "1   2            4.9           3.0            1.4           0.2  Iris-setosa\n",
      "2   3            4.7           3.2            1.3           0.2  Iris-setosa\n",
      "3   4            4.6           3.1            1.5           0.2  Iris-setosa\n",
      "4   5            5.0           3.6            1.4           0.2  Iris-setosa\n",
      "5   6            5.4           3.9            1.7           0.4  Iris-setosa\n",
      "6   7            4.6           3.4            1.4           0.3  Iris-setosa\n",
      "7   8            5.0           3.4            1.5           0.2  Iris-setosa\n",
      "8   9            4.4           2.9            1.4           0.2  Iris-setosa\n",
      "9  10            4.9           3.1            1.5           0.1  Iris-setosa\n"
     ]
    }
   ],
   "source": [
    "print(df.head(10))\n"
   ]
  },
  {
   "cell_type": "code",
   "execution_count": 5,
   "id": "24e91fa0-cfcd-408a-b6f6-22a93d65f037",
   "metadata": {},
   "outputs": [
    {
     "name": "stdout",
     "output_type": "stream",
     "text": [
      "(150, 6)\n"
     ]
    }
   ],
   "source": [
    "print(df.shape)"
   ]
  },
  {
   "cell_type": "code",
   "execution_count": 6,
   "id": "891e5e89-e83d-4079-9d08-e8f75cea7e6b",
   "metadata": {},
   "outputs": [
    {
     "name": "stdout",
     "output_type": "stream",
     "text": [
      "Missing Values:  Id               0\n",
      "SepalLengthCm    0\n",
      "SepalWidthCm     0\n",
      "PetalLengthCm    0\n",
      "PetalWidthCm     0\n",
      "Species          0\n",
      "dtype: int64\n"
     ]
    }
   ],
   "source": [
    "print(\"Missing Values: \",df.isnull().sum())"
   ]
  },
  {
   "cell_type": "code",
   "execution_count": 7,
   "id": "16998f69-6962-41da-8dc1-313fd0312633",
   "metadata": {},
   "outputs": [
    {
     "name": "stdout",
     "output_type": "stream",
     "text": [
      "Initial Datatype: Id                 int64\n",
      "SepalLengthCm    float64\n",
      "SepalWidthCm     float64\n",
      "PetalLengthCm    float64\n",
      "PetalWidthCm     float64\n",
      "Species           object\n",
      "dtype: object\n"
     ]
    }
   ],
   "source": [
    "print(\"Initial Datatype:\",df.dtypes)"
   ]
  },
  {
   "cell_type": "code",
   "execution_count": 8,
   "id": "406b8e38-d491-41c8-b376-efef9fb101e8",
   "metadata": {},
   "outputs": [],
   "source": [
    "if 'Id' in df.columns:\n",
    "    df.drop(columns=['Id'], inplace=True)"
   ]
  },
  {
   "cell_type": "code",
   "execution_count": 9,
   "id": "94d491c3-a11c-4674-b9ce-447abd52a306",
   "metadata": {},
   "outputs": [
    {
     "name": "stdout",
     "output_type": "stream",
     "text": [
      "Descriptive statistics:         SepalLengthCm  SepalWidthCm  PetalLengthCm  PetalWidthCm\n",
      "count     150.000000    150.000000     150.000000    150.000000\n",
      "mean        5.843333      3.054000       3.758667      1.198667\n",
      "std         0.828066      0.433594       1.764420      0.763161\n",
      "min         4.300000      2.000000       1.000000      0.100000\n",
      "25%         5.100000      2.800000       1.600000      0.300000\n",
      "50%         5.800000      3.000000       4.350000      1.300000\n",
      "75%         6.400000      3.300000       5.100000      1.800000\n",
      "max         7.900000      4.400000       6.900000      2.500000\n"
     ]
    }
   ],
   "source": [
    "\n",
    "print(\"Descriptive statistics: \", df.describe())\n"
   ]
  },
  {
   "cell_type": "code",
   "execution_count": 10,
   "id": "adccf162-8749-4918-9292-9b92434b3ebf",
   "metadata": {},
   "outputs": [
    {
     "name": "stdout",
     "output_type": "stream",
     "text": [
      "Outlier detection using IQR: \n",
      "SepalLengthCm: 0 outliers\n",
      "Shape before removal: (150, 5)\n",
      "Shape after removal: (150, 5)\n",
      "SepalWidthCm: 4 outliers\n",
      "Shape before removal: (150, 5)\n",
      "Shape after removal: (146, 5)\n",
      "PetalLengthCm: 0 outliers\n",
      "Shape before removal: (146, 5)\n",
      "Shape after removal: (146, 5)\n",
      "PetalWidthCm: 0 outliers\n",
      "Shape before removal: (146, 5)\n",
      "Shape after removal: (146, 5)\n"
     ]
    }
   ],
   "source": [
    "print(\"Outlier detection using IQR: \")\n",
    "outlier_report = {}\n",
    "for col in df.select_dtypes(include=['float64', 'int64']).columns:\n",
    "    Q1 = df[col].quantile(0.25)\n",
    "    Q3 = df[col].quantile(0.75)\n",
    "    IQR = Q3 - Q1\n",
    "    lower_bound = Q1 - 1.5 * IQR\n",
    "    upper_bound = Q3 + 1.5 * IQR\n",
    "    outliers = df[(df[col] < lower_bound) | (df[col] > upper_bound)]\n",
    "    outlier_report[col] = outliers.shape[0]\n",
    "    print(f\"{col}: {outlier_report[col]} outliers\")\n",
    "    print(\"Shape before removal:\",df.shape)\n",
    "    # Remove outliers and update the dataframe\n",
    "    df = df[(df[col] >= lower_bound) & (df[col] <= upper_bound)]\n",
    "    print(\"Shape after removal:\", df.shape)"
   ]
  },
  {
   "cell_type": "code",
   "execution_count": 11,
   "id": "0f2b91e5-3543-4fba-9d5b-b5a7d0b24516",
   "metadata": {},
   "outputs": [
    {
     "name": "stdout",
     "output_type": "stream",
     "text": [
      "   SepalLengthCm  SepalWidthCm  PetalLengthCm  PetalWidthCm      Species\n",
      "0       0.222222      0.722222       0.067797      0.041667  Iris-setosa\n",
      "1       0.166667      0.444444       0.067797      0.041667  Iris-setosa\n",
      "2       0.111111      0.555556       0.050847      0.041667  Iris-setosa\n",
      "3       0.083333      0.500000       0.084746      0.041667  Iris-setosa\n",
      "4       0.194444      0.777778       0.067797      0.041667  Iris-setosa\n"
     ]
    }
   ],
   "source": [
    "# Normalize \n",
    "scaler = MinMaxScaler()\n",
    "numeric_cols = df.select_dtypes(include=['float64', 'int64']).columns\n",
    "df[numeric_cols] = scaler.fit_transform(df[numeric_cols])\n",
    "print(df.head())"
   ]
  },
  {
   "cell_type": "code",
   "execution_count": 12,
   "id": "65dd6580-2359-4a5f-935a-620e9049d7f4",
   "metadata": {},
   "outputs": [
    {
     "name": "stdout",
     "output_type": "stream",
     "text": [
      "   SepalLengthCm  SepalWidthCm  PetalLengthCm  PetalWidthCm  \\\n",
      "0       0.222222      0.722222       0.067797      0.041667   \n",
      "1       0.166667      0.444444       0.067797      0.041667   \n",
      "2       0.111111      0.555556       0.050847      0.041667   \n",
      "3       0.083333      0.500000       0.084746      0.041667   \n",
      "4       0.194444      0.777778       0.067797      0.041667   \n",
      "\n",
      "   Species_Iris-setosa  Species_Iris-versicolor  Species_Iris-virginica  \n",
      "0                    1                        0                       0  \n",
      "1                    1                        0                       0  \n",
      "2                    1                        0                       0  \n",
      "3                    1                        0                       0  \n",
      "4                    1                        0                       0  \n"
     ]
    }
   ],
   "source": [
    "df = pd.get_dummies(df, columns=['Species'], prefix='Species', dtype=int)\n",
    "\n",
    "# Display result\n",
    "print(df.head())"
   ]
  },
  {
   "cell_type": "code",
   "execution_count": 13,
   "id": "646cfe94-5cac-4f34-ae30-abc828e4ecb3",
   "metadata": {},
   "outputs": [
    {
     "name": "stdout",
     "output_type": "stream",
     "text": [
      "Original species values (before encoding):  ['Iris-setosa' 'Iris-versicolor' 'Iris-virginica']\n",
      "\n",
      "Encoded species values (after encoding):  [0 1 2]\n"
     ]
    }
   ],
   "source": [
    "#categorical to numeric\n",
    "df = pd.read_csv(\"D:\\\\iris_dataset\\\\Iris.csv\")\n",
    "df['Species_original'] = df['Species']  \n",
    "\n",
    "le = LabelEncoder()\n",
    "df['Species'] = le.fit_transform(df['Species'])\n",
    "\n",
    "print(\"Original species values (before encoding): \",df['Species_original'].unique())\n",
    "\n",
    "print(\"\\nEncoded species values (after encoding): \",(df['Species'].unique()))\n",
    "\n",
    "\n"
   ]
  },
  {
   "cell_type": "code",
   "execution_count": 14,
   "id": "7da90c6a-f764-4074-a22c-747938f6bad9",
   "metadata": {},
   "outputs": [
    {
     "name": "stdout",
     "output_type": "stream",
     "text": [
      "      Id  SepalLengthCm  SepalWidthCm  PetalLengthCm  PetalWidthCm  Species  \\\n",
      "0      1            5.1           3.5            1.4           0.2        0   \n",
      "1      2            4.9           3.0            1.4           0.2        0   \n",
      "2      3            4.7           3.2            1.3           0.2        0   \n",
      "3      4            4.6           3.1            1.5           0.2        0   \n",
      "4      5            5.0           3.6            1.4           0.2        0   \n",
      "..   ...            ...           ...            ...           ...      ...   \n",
      "145  146            6.7           3.0            5.2           2.3        2   \n",
      "146  147            6.3           2.5            5.0           1.9        2   \n",
      "147  148            6.5           3.0            5.2           2.0        2   \n",
      "148  149            6.2           3.4            5.4           2.3        2   \n",
      "149  150            5.9           3.0            5.1           1.8        2   \n",
      "\n",
      "    Species_original  Species_0  Species_1  Species_2  \n",
      "0        Iris-setosa        1.0        0.0        0.0  \n",
      "1        Iris-setosa        1.0        0.0        0.0  \n",
      "2        Iris-setosa        1.0        0.0        0.0  \n",
      "3        Iris-setosa        1.0        0.0        0.0  \n",
      "4        Iris-setosa        1.0        0.0        0.0  \n",
      "..               ...        ...        ...        ...  \n",
      "145   Iris-virginica        0.0        0.0        1.0  \n",
      "146   Iris-virginica        0.0        0.0        1.0  \n",
      "147   Iris-virginica        0.0        0.0        1.0  \n",
      "148   Iris-virginica        0.0        0.0        1.0  \n",
      "149   Iris-virginica        0.0        0.0        1.0  \n",
      "\n",
      "[150 rows x 10 columns]\n"
     ]
    }
   ],
   "source": [
    "from sklearn.preprocessing import OneHotEncoder\n",
    "\n",
    "# Initialize OneHotEncoder with sparse_output=False for dense output\n",
    "encoder = OneHotEncoder(sparse_output=False)\n",
    "\n",
    "# Fit and transform the data\n",
    "encoded_values = encoder.fit_transform(df[['Species']])\n",
    "\n",
    "# Convert the encoded values to a DataFrame\n",
    "encoded_df = pd.DataFrame(encoded_values, columns=encoder.get_feature_names_out(['Species']))\n",
    "\n",
    "# Combine with the original DataFrame if necessary\n",
    "df_encoded = pd.concat([df, encoded_df], axis=1)\n",
    "\n",
    "print(df_encoded)\n"
   ]
  },
  {
   "cell_type": "code",
   "execution_count": null,
   "id": "6193d718-9f02-40ec-bb84-fcc9ffa846ae",
   "metadata": {},
   "outputs": [],
   "source": []
  }
 ],
 "metadata": {
  "kernelspec": {
   "display_name": "Python 3 (ipykernel)",
   "language": "python",
   "name": "python3"
  },
  "language_info": {
   "codemirror_mode": {
    "name": "ipython",
    "version": 3
   },
   "file_extension": ".py",
   "mimetype": "text/x-python",
   "name": "python",
   "nbconvert_exporter": "python",
   "pygments_lexer": "ipython3",
   "version": "3.12.3"
  }
 },
 "nbformat": 4,
 "nbformat_minor": 5
}
