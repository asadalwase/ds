{
 "cells": [
  {
   "cell_type": "code",
   "execution_count": 44,
   "id": "da5b97bf-22c9-4c89-a764-aafc1a94778e",
   "metadata": {},
   "outputs": [],
   "source": [
    "#adult.csv\n",
    "import pandas as pd\n",
    "import numpy as np\n",
    "from sklearn.preprocessing import StandardScaler, MinMaxScaler"
   ]
  },
  {
   "cell_type": "code",
   "execution_count": 45,
   "id": "b3932774-b998-4490-9a5b-dccf9fc29a08",
   "metadata": {},
   "outputs": [
    {
     "name": "stdout",
     "output_type": "stream",
     "text": [
      "   age  workclass  fnlwgt     education  educational-num      marital-status  \\\n",
      "0   25    Private  226802          11th                7       Never-married   \n",
      "1   38    Private   89814       HS-grad                9  Married-civ-spouse   \n",
      "2   28  Local-gov  336951    Assoc-acdm               12  Married-civ-spouse   \n",
      "3   44    Private  160323  Some-college               10  Married-civ-spouse   \n",
      "4   18          ?  103497  Some-college               10       Never-married   \n",
      "\n",
      "          occupation relationship   race  gender  capital-gain  capital-loss  \\\n",
      "0  Machine-op-inspct    Own-child  Black    Male             0             0   \n",
      "1    Farming-fishing      Husband  White    Male             0             0   \n",
      "2    Protective-serv      Husband  White    Male             0             0   \n",
      "3  Machine-op-inspct      Husband  Black    Male          7688             0   \n",
      "4                  ?    Own-child  White  Female             0             0   \n",
      "\n",
      "   hours-per-week native-country income  \n",
      "0              40  United-States  <=50K  \n",
      "1              50  United-States  <=50K  \n",
      "2              40  United-States   >50K  \n",
      "3              40  United-States   >50K  \n",
      "4              30  United-States  <=50K  \n",
      "(48842, 15)\n"
     ]
    }
   ],
   "source": [
    "df = pd.read_csv(\"D:\\\\adult.csv\")\n",
    "print(df.head())\n",
    "print(df.shape)"
   ]
  },
  {
   "cell_type": "code",
   "execution_count": 46,
   "id": "5505e8f4-a786-4b31-9756-365198c980a6",
   "metadata": {},
   "outputs": [
    {
     "name": "stdout",
     "output_type": "stream",
     "text": [
      "Missing Values in Each Column: age                0\n",
      "workclass          0\n",
      "fnlwgt             0\n",
      "education          0\n",
      "educational-num    0\n",
      "marital-status     0\n",
      "occupation         0\n",
      "relationship       0\n",
      "race               0\n",
      "gender             0\n",
      "capital-gain       0\n",
      "capital-loss       0\n",
      "hours-per-week     0\n",
      "native-country     0\n",
      "income             0\n",
      "dtype: int64\n"
     ]
    }
   ],
   "source": [
    "#Null Values \n",
    "print(\"Missing Values in Each Column:\",df.isnull().sum())\n"
   ]
  },
  {
   "cell_type": "code",
   "execution_count": 47,
   "id": "ca1d62f0-9db7-4773-abcd-0944e47a71cb",
   "metadata": {},
   "outputs": [
    {
     "name": "stdout",
     "output_type": "stream",
     "text": [
      "Dropped rows with missing values. New shape: (48842, 15)\n"
     ]
    }
   ],
   "source": [
    "df = df.dropna()\n",
    "print(\"Dropped rows with missing values. New shape:\", df.shape)"
   ]
  },
  {
   "cell_type": "code",
   "execution_count": 48,
   "id": "4d255445-4044-4913-baa5-3c4405ba7dca",
   "metadata": {},
   "outputs": [
    {
     "name": "stdout",
     "output_type": "stream",
     "text": [
      "Outliers Removed. New shape: (28560, 15)\n"
     ]
    }
   ],
   "source": [
    "def remove_outliers(df, col):\n",
    "    Q1 = df[col].quantile(0.25)\n",
    "    Q3 = df[col].quantile(0.75)\n",
    "    IQR = Q3 - Q1\n",
    "    lower = Q1 - 1.5 * IQR\n",
    "    upper = Q3 + 1.5 * IQR\n",
    "    return df[(df[col] >= lower) & (df[col] <= upper)]\n",
    "\n",
    "numeric_cols = df.select_dtypes(include=np.number).columns\n",
    "for col in numeric_cols:\n",
    "    df = remove_outliers(df, col)\n",
    "\n",
    "print(\"Outliers Removed. New shape:\", df.shape)"
   ]
  },
  {
   "cell_type": "code",
   "execution_count": 49,
   "id": "815552cd-c867-4b1c-a5a8-0b4a728d5f42",
   "metadata": {},
   "outputs": [
    {
     "name": "stdout",
     "output_type": "stream",
     "text": [
      "Standard Scaled Data Sample:\n",
      "        age  workclass    fnlwgt     education  educational-num  \\\n",
      "0 -1.080674    Private  0.532148          11th        -1.511213   \n",
      "1 -0.003343    Private -1.041795       HS-grad        -0.580414   \n",
      "2 -0.832059  Local-gov  1.797721    Assoc-acdm         0.815786   \n",
      "6 -0.749187          ?  0.534722       HS-grad        -0.580414   \n",
      "8 -1.163545    Private  2.173616  Some-college        -0.115014   \n",
      "\n",
      "       marital-status         occupation relationship   race  gender  \\\n",
      "0       Never-married  Machine-op-inspct    Own-child  Black    Male   \n",
      "1  Married-civ-spouse    Farming-fishing      Husband  White    Male   \n",
      "2  Married-civ-spouse    Protective-serv      Husband  White    Male   \n",
      "6       Never-married                  ?    Unmarried  Black    Male   \n",
      "8       Never-married      Other-service    Unmarried  White  Female   \n",
      "\n",
      "   capital-gain  capital-loss  hours-per-week native-country income  \n",
      "0           0.0           0.0       -0.371325  United-States  <=50K  \n",
      "1           0.0           0.0        2.153988  United-States  <=50K  \n",
      "2           0.0           0.0       -0.371325  United-States   >50K  \n",
      "6           0.0           0.0       -0.371325  United-States  <=50K  \n",
      "8           0.0           0.0       -0.371325  United-States  <=50K  \n"
     ]
    }
   ],
   "source": [
    "scaler = StandardScaler()\n",
    "df_scaled = df.copy()\n",
    "df_scaled[numeric_cols] = scaler.fit_transform(df_scaled[numeric_cols])\n",
    "print(\"Standard Scaled Data Sample:\")\n",
    "print(df_scaled.head())"
   ]
  },
  {
   "cell_type": "code",
   "execution_count": 50,
   "id": "dc709319-6eed-4987-9c6c-ced6b2638edd",
   "metadata": {},
   "outputs": [
    {
     "name": "stdout",
     "output_type": "stream",
     "text": [
      "\n",
      "📏 Min-Max Normalized Data Sample:\n",
      "        age  workclass    fnlwgt     education  educational-num  \\\n",
      "0  0.131148    Private  0.526982          11th         0.181818   \n",
      "1  0.344262    Private  0.188113       HS-grad         0.363636   \n",
      "2  0.180328  Local-gov  0.799459    Assoc-acdm         0.636364   \n",
      "6  0.196721          ?  0.527536       HS-grad         0.363636   \n",
      "8  0.114754    Private  0.880389  Some-college         0.454545   \n",
      "\n",
      "       marital-status         occupation relationship   race  gender  \\\n",
      "0       Never-married  Machine-op-inspct    Own-child  Black    Male   \n",
      "1  Married-civ-spouse    Farming-fishing      Husband  White    Male   \n",
      "2  Married-civ-spouse    Protective-serv      Husband  White    Male   \n",
      "6       Never-married                  ?    Unmarried  Black    Male   \n",
      "8       Never-married      Other-service    Unmarried  White  Female   \n",
      "\n",
      "   capital-gain  capital-loss  hours-per-week native-country income  \n",
      "0           0.0           0.0        0.368421  United-States  <=50K  \n",
      "1           0.0           0.0        0.894737  United-States  <=50K  \n",
      "2           0.0           0.0        0.368421  United-States   >50K  \n",
      "6           0.0           0.0        0.368421  United-States  <=50K  \n",
      "8           0.0           0.0        0.368421  United-States  <=50K  \n"
     ]
    }
   ],
   "source": [
    "normalizer = MinMaxScaler()\n",
    "df_normalized = df.copy()\n",
    "df_normalized[numeric_cols] = normalizer.fit_transform(df_normalized[numeric_cols])\n",
    "print(\"\\n📏 Min-Max Normalized Data Sample:\")\n",
    "print(df_normalized.head())"
   ]
  },
  {
   "cell_type": "code",
   "execution_count": 52,
   "id": "5875bdea-9afd-48e6-b2d1-fabadc79e9fd",
   "metadata": {},
   "outputs": [
    {
     "data": {
      "text/html": [
       "<div>\n",
       "<style scoped>\n",
       "    .dataframe tbody tr th:only-of-type {\n",
       "        vertical-align: middle;\n",
       "    }\n",
       "\n",
       "    .dataframe tbody tr th {\n",
       "        vertical-align: top;\n",
       "    }\n",
       "\n",
       "    .dataframe thead th {\n",
       "        text-align: right;\n",
       "    }\n",
       "</style>\n",
       "<table border=\"1\" class=\"dataframe\">\n",
       "  <thead>\n",
       "    <tr style=\"text-align: right;\">\n",
       "      <th></th>\n",
       "      <th>count</th>\n",
       "      <th>mean</th>\n",
       "      <th>std</th>\n",
       "      <th>min</th>\n",
       "      <th>25%</th>\n",
       "      <th>50%</th>\n",
       "      <th>75%</th>\n",
       "      <th>max</th>\n",
       "    </tr>\n",
       "    <tr>\n",
       "      <th>gender</th>\n",
       "      <th></th>\n",
       "      <th></th>\n",
       "      <th></th>\n",
       "      <th></th>\n",
       "      <th></th>\n",
       "      <th></th>\n",
       "      <th></th>\n",
       "      <th></th>\n",
       "    </tr>\n",
       "  </thead>\n",
       "  <tbody>\n",
       "    <tr>\n",
       "      <th>Female</th>\n",
       "      <td>9424.0</td>\n",
       "      <td>37.120862</td>\n",
       "      <td>12.252046</td>\n",
       "      <td>17.0</td>\n",
       "      <td>27.0</td>\n",
       "      <td>35.0</td>\n",
       "      <td>46.0</td>\n",
       "      <td>77.0</td>\n",
       "    </tr>\n",
       "    <tr>\n",
       "      <th>Male</th>\n",
       "      <td>19136.0</td>\n",
       "      <td>38.493154</td>\n",
       "      <td>11.949268</td>\n",
       "      <td>17.0</td>\n",
       "      <td>29.0</td>\n",
       "      <td>37.0</td>\n",
       "      <td>47.0</td>\n",
       "      <td>78.0</td>\n",
       "    </tr>\n",
       "  </tbody>\n",
       "</table>\n",
       "</div>"
      ],
      "text/plain": [
       "          count       mean        std   min   25%   50%   75%   max\n",
       "gender                                                             \n",
       "Female   9424.0  37.120862  12.252046  17.0  27.0  35.0  46.0  77.0\n",
       "Male    19136.0  38.493154  11.949268  17.0  29.0  37.0  47.0  78.0"
      ]
     },
     "execution_count": 52,
     "metadata": {},
     "output_type": "execute_result"
    }
   ],
   "source": [
    "df.groupby(\"gender\")[\"age\"].describe()"
   ]
  },
  {
   "cell_type": "code",
   "execution_count": 51,
   "id": "0f1c3379-c5ba-4379-a8bd-22a9cecaa271",
   "metadata": {},
   "outputs": [
    {
     "data": {
      "text/plain": [
       "marital-status\n",
       "Divorced                 42.386179\n",
       "Married-AF-spouse        28.294118\n",
       "Married-civ-spouse       41.874377\n",
       "Married-spouse-absent    38.829132\n",
       "Never-married            29.307102\n",
       "Separated                38.921668\n",
       "Widowed                  54.764793\n",
       "Name: age, dtype: float64"
      ]
     },
     "execution_count": 51,
     "metadata": {},
     "output_type": "execute_result"
    }
   ],
   "source": [
    "df.groupby(\"marital-status\")[\"age\"].mean()"
   ]
  },
  {
   "cell_type": "code",
   "execution_count": 53,
   "id": "77f59357-37e4-4fed-8dbc-825748459ed2",
   "metadata": {},
   "outputs": [
    {
     "data": {
      "text/plain": [
       "marital-status\n",
       "Divorced                 42.0\n",
       "Married-AF-spouse        28.0\n",
       "Married-civ-spouse       41.0\n",
       "Married-spouse-absent    38.0\n",
       "Never-married            27.0\n",
       "Separated                38.0\n",
       "Widowed                  56.0\n",
       "Name: age, dtype: float64"
      ]
     },
     "execution_count": 53,
     "metadata": {},
     "output_type": "execute_result"
    }
   ],
   "source": [
    "df.groupby(\"marital-status\")[\"age\"].median()"
   ]
  },
  {
   "cell_type": "code",
   "execution_count": 54,
   "id": "55bc2fc1-964c-42f6-898a-ebd57c3e91f6",
   "metadata": {},
   "outputs": [
    {
     "data": {
      "text/plain": [
       "marital-status\n",
       "Divorced                  9.834428\n",
       "Married-AF-spouse         5.976670\n",
       "Married-civ-spouse       11.038415\n",
       "Married-spouse-absent    11.126012\n",
       "Never-married             9.175611\n",
       "Separated                10.023240\n",
       "Widowed                  10.417478\n",
       "Name: age, dtype: float64"
      ]
     },
     "execution_count": 54,
     "metadata": {},
     "output_type": "execute_result"
    }
   ],
   "source": [
    "df.groupby(\"marital-status\")[\"age\"].std()"
   ]
  },
  {
   "cell_type": "code",
   "execution_count": 7,
   "id": "4452f205-e1df-414d-9ac5-9dca60076b70",
   "metadata": {},
   "outputs": [],
   "source": [
    "\n",
    "\n",
    "#iris.csv\n",
    "import pandas as pd\n",
    "import numpy as np\n",
    "from sklearn.preprocessing import StandardScaler, MinMaxScaler"
   ]
  },
  {
   "cell_type": "code",
   "execution_count": 8,
   "id": "ca8d8b28-1384-476f-9937-a36e3220064d",
   "metadata": {},
   "outputs": [
    {
     "name": "stdout",
     "output_type": "stream",
     "text": [
      "   Id  SepalLengthCm  SepalWidthCm  PetalLengthCm  PetalWidthCm      Species\n",
      "0   1            5.1           3.5            1.4           0.2  Iris-setosa\n",
      "1   2            4.9           3.0            1.4           0.2  Iris-setosa\n",
      "2   3            4.7           3.2            1.3           0.2  Iris-setosa\n",
      "3   4            4.6           3.1            1.5           0.2  Iris-setosa\n",
      "4   5            5.0           3.6            1.4           0.2  Iris-setosa\n"
     ]
    }
   ],
   "source": [
    "df = pd.read_csv(\"D:\\\\iris_dataset\\\\Iris.csv\") \n",
    "print(df.head())"
   ]
  },
  {
   "cell_type": "code",
   "execution_count": 9,
   "id": "8dafbbb9-eb2d-4fef-8914-94951dd9d943",
   "metadata": {},
   "outputs": [
    {
     "name": "stdout",
     "output_type": "stream",
     "text": [
      " Missing Values:  Id               0\n",
      "SepalLengthCm    0\n",
      "SepalWidthCm     0\n",
      "PetalLengthCm    0\n",
      "PetalWidthCm     0\n",
      "Species          0\n",
      "dtype: int64\n"
     ]
    }
   ],
   "source": [
    "print(\" Missing Values: \",df.isnull().sum())\n"
   ]
  },
  {
   "cell_type": "code",
   "execution_count": 10,
   "id": "d0c520c1-7b85-4350-820c-69906a11d32e",
   "metadata": {},
   "outputs": [
    {
     "data": {
      "text/plain": [
       "(150, 6)"
      ]
     },
     "execution_count": 10,
     "metadata": {},
     "output_type": "execute_result"
    }
   ],
   "source": [
    "df.shape\n"
   ]
  },
  {
   "cell_type": "code",
   "execution_count": 11,
   "id": "42a69130-3e18-4f1e-a955-e09b97e6a87c",
   "metadata": {},
   "outputs": [
    {
     "name": "stdout",
     "output_type": "stream",
     "text": [
      "Shape after outlier removal: (146, 6)\n"
     ]
    }
   ],
   "source": [
    "def remove_outliers(df, col):\n",
    "    Q1 = df[col].quantile(0.25)\n",
    "    Q3 = df[col].quantile(0.75)\n",
    "    IQR = Q3 - Q1\n",
    "    lower = Q1 - 1.5 * IQR\n",
    "    upper = Q3 + 1.5 * IQR\n",
    "    return df[(df[col] >= lower) & (df[col] <= upper)]\n",
    "\n",
    "for col in df.select_dtypes(include=[np.number]).columns:\n",
    "    df = remove_outliers(df, col)\n",
    "\n",
    "print(\"Shape after outlier removal:\", df.shape)"
   ]
  },
  {
   "cell_type": "code",
   "execution_count": 12,
   "id": "6010807f-ee61-4c3e-9191-bf32f1bd6c4e",
   "metadata": {},
   "outputs": [
    {
     "name": "stdout",
     "output_type": "stream",
     "text": [
      "Sample Scaled Data (StandardScaler): \n",
      "         Id  SepalLengthCm  SepalWidthCm  PetalLengthCm  PetalWidthCm  \\\n",
      "0 -1.745376      -0.910515      1.175789      -1.374878     -1.345899   \n",
      "1 -1.722284      -1.151122     -0.093924      -1.374878     -1.345899   \n",
      "2 -1.699192      -1.391729      0.413961      -1.431986     -1.345899   \n",
      "3 -1.676099      -1.512032      0.160019      -1.317771     -1.345899   \n",
      "4 -1.653007      -1.030819      1.429732      -1.374878     -1.345899   \n",
      "\n",
      "       Species  \n",
      "0  Iris-setosa  \n",
      "1  Iris-setosa  \n",
      "2  Iris-setosa  \n",
      "3  Iris-setosa  \n",
      "4  Iris-setosa  \n"
     ]
    }
   ],
   "source": [
    "scaler = StandardScaler()\n",
    "df_scaled = df.copy()\n",
    "numeric_cols = df.select_dtypes(include=[np.number]).columns\n",
    "df_scaled[numeric_cols] = scaler.fit_transform(df[numeric_cols])\n",
    "print(\"Sample Scaled Data (StandardScaler): \")\n",
    "print(df_scaled.head())"
   ]
  },
  {
   "cell_type": "code",
   "execution_count": 14,
   "id": "ce0d3bcc-c432-4e8c-9894-fde7cf71bbf8",
   "metadata": {},
   "outputs": [
    {
     "name": "stdout",
     "output_type": "stream",
     "text": [
      " Sample Normalized Data (MinMaxScaler):\n",
      "         Id  SepalLengthCm  SepalWidthCm  PetalLengthCm  PetalWidthCm  \\\n",
      "0  0.000000       0.222222      0.722222       0.067797      0.041667   \n",
      "1  0.006711       0.166667      0.444444       0.067797      0.041667   \n",
      "2  0.013423       0.111111      0.555556       0.050847      0.041667   \n",
      "3  0.020134       0.083333      0.500000       0.084746      0.041667   \n",
      "4  0.026846       0.194444      0.777778       0.067797      0.041667   \n",
      "\n",
      "       Species  \n",
      "0  Iris-setosa  \n",
      "1  Iris-setosa  \n",
      "2  Iris-setosa  \n",
      "3  Iris-setosa  \n",
      "4  Iris-setosa  \n"
     ]
    }
   ],
   "source": [
    "normalizer = MinMaxScaler()\n",
    "df_normalized = df.copy()\n",
    "df_normalized[numeric_cols] = normalizer.fit_transform(df[numeric_cols])\n",
    "print(\" Sample Normalized Data (MinMaxScaler):\")\n",
    "print(df_normalized.head())"
   ]
  },
  {
   "cell_type": "code",
   "execution_count": 16,
   "id": "7ec8271c-a7c6-40f0-8e6c-d015161ff00e",
   "metadata": {},
   "outputs": [
    {
     "name": "stdout",
     "output_type": "stream",
     "text": [
      " Summary Statistics Grouped by 'Species':\n",
      "                         Id                             SepalLengthCm         \\\n",
      "                       mean median  min  max        std          mean median   \n",
      "Species                                                                        \n",
      "Iris-setosa       25.361702   25.0    1   50  14.885688      4.976596    5.0   \n",
      "Iris-versicolor   75.795918   76.0   51  100  14.575921      5.955102    5.9   \n",
      "Iris-virginica   125.500000  125.5  101  150  14.577380      6.588000    6.5   \n",
      "\n",
      "                                     ... PetalLengthCm                   \\\n",
      "                 min  max       std  ...          mean median  min  max   \n",
      "Species                              ...                                  \n",
      "Iris-setosa      4.3  5.8  0.338932  ...       1.46383   1.50  1.0  1.9   \n",
      "Iris-versicolor  4.9  7.0  0.503348  ...       4.27551   4.40  3.0  5.1   \n",
      "Iris-virginica   4.9  7.9  0.635880  ...       5.55200   5.55  4.5  6.9   \n",
      "\n",
      "                          PetalWidthCm                             \n",
      "                      std         mean median  min  max       std  \n",
      "Species                                                            \n",
      "Iris-setosa      0.178673     0.244681    0.2  0.1  0.6  0.105930  \n",
      "Iris-versicolor  0.461668     1.332653    1.3  1.0  1.8  0.194066  \n",
      "Iris-virginica   0.551895     2.026000    2.0  1.4  2.5  0.274650  \n",
      "\n",
      "[3 rows x 25 columns]\n"
     ]
    }
   ],
   "source": [
    "grouped = df.groupby('Species').agg(['mean', 'median', 'min', 'max', 'std'])\n",
    "print(\" Summary Statistics Grouped by 'Species':\")\n",
    "print(grouped)"
   ]
  },
  {
   "cell_type": "code",
   "execution_count": 19,
   "id": "31cf7e30-f630-4f72-8513-520cb19a5545",
   "metadata": {},
   "outputs": [
    {
     "name": "stdout",
     "output_type": "stream",
     "text": [
      "Mean Petal Length for each Species (List):\n",
      "[1.4638297872340424, 4.275510204081633, 5.5520000000000005]\n"
     ]
    }
   ],
   "source": [
    "mean_petal_lengths = df.groupby('Species')['PetalLengthCm'].mean().tolist()\n",
    "print(\"Mean Petal Length for each Species (List):\")\n",
    "print(mean_petal_lengths)"
   ]
  },
  {
   "cell_type": "code",
   "execution_count": 21,
   "id": "d5a78e29-e749-4064-b9e8-869e39285564",
   "metadata": {},
   "outputs": [
    {
     "name": "stdout",
     "output_type": "stream",
     "text": [
      " Detailed Descriptive Stats for Each Species:\n",
      " Statistics for: Iris-setosa\n",
      "              Id  SepalLengthCm  SepalWidthCm  PetalLengthCm  PetalWidthCm\n",
      "count  47.000000      47.000000     47.000000      47.000000     47.000000\n",
      "mean   25.361702       4.976596      3.365957       1.463830      0.244681\n",
      "std    14.885688       0.338932      0.327890       0.178673      0.105930\n",
      "min     1.000000       4.300000      2.300000       1.000000      0.100000\n",
      "25%    12.500000       4.800000      3.100000       1.400000      0.200000\n",
      "50%    25.000000       5.000000      3.400000       1.500000      0.200000\n",
      "75%    38.500000       5.100000      3.550000       1.600000      0.300000\n",
      "max    50.000000       5.800000      4.000000       1.900000      0.600000\n",
      " Statistics for: Iris-versicolor\n",
      "               Id  SepalLengthCm  SepalWidthCm  PetalLengthCm  PetalWidthCm\n",
      "count   49.000000      49.000000     49.000000      49.000000     49.000000\n",
      "mean    75.795918       5.955102      2.785714       4.275510      1.332653\n",
      "std     14.575921       0.503348      0.296507       0.461668      0.194066\n",
      "min     51.000000       4.900000      2.200000       3.000000      1.000000\n",
      "25%     64.000000       5.600000      2.600000       4.000000      1.200000\n",
      "50%     76.000000       5.900000      2.800000       4.400000      1.300000\n",
      "75%     88.000000       6.300000      3.000000       4.600000      1.500000\n",
      "max    100.000000       7.000000      3.400000       5.100000      1.800000\n",
      " Statistics for: Iris-virginica\n",
      "              Id  SepalLengthCm  SepalWidthCm  PetalLengthCm  PetalWidthCm\n",
      "count   50.00000       50.00000     50.000000      50.000000      50.00000\n",
      "mean   125.50000        6.58800      2.974000       5.552000       2.02600\n",
      "std     14.57738        0.63588      0.322497       0.551895       0.27465\n",
      "min    101.00000        4.90000      2.200000       4.500000       1.40000\n",
      "25%    113.25000        6.22500      2.800000       5.100000       1.80000\n",
      "50%    125.50000        6.50000      3.000000       5.550000       2.00000\n",
      "75%    137.75000        6.90000      3.175000       5.875000       2.30000\n",
      "max    150.00000        7.90000      3.800000       6.900000       2.50000\n"
     ]
    }
   ],
   "source": [
    "print(\" Detailed Descriptive Stats for Each Species:\")\n",
    "for Species in df['Species'].unique():\n",
    "    print(f\" Statistics for: {Species}\")\n",
    "    Species_data = df[df['Species'] == Species]\n",
    "    print(Species_data.describe(percentiles=[0.25, 0.5, 0.75]))"
   ]
  },
  {
   "cell_type": "code",
   "execution_count": null,
   "id": "e3d4e169-0857-47e6-b7a0-57bea4fde3c1",
   "metadata": {},
   "outputs": [],
   "source": []
  }
 ],
 "metadata": {
  "kernelspec": {
   "display_name": "Python 3 (ipykernel)",
   "language": "python",
   "name": "python3"
  },
  "language_info": {
   "codemirror_mode": {
    "name": "ipython",
    "version": 3
   },
   "file_extension": ".py",
   "mimetype": "text/x-python",
   "name": "python",
   "nbconvert_exporter": "python",
   "pygments_lexer": "ipython3",
   "version": "3.12.3"
  }
 },
 "nbformat": 4,
 "nbformat_minor": 5
}
