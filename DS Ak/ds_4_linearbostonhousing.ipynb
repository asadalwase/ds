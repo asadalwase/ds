{
 "cells": [
  {
   "cell_type": "code",
   "execution_count": 2,
   "id": "f7cc9e58-7fcd-4150-8636-0058eadaf572",
   "metadata": {},
   "outputs": [],
   "source": [
    "import pandas as pd\n",
    "import numpy as np\n",
    "import seaborn as sns\n",
    "import matplotlib.pyplot as plt\n",
    "from sklearn.model_selection import train_test_split\n",
    "from sklearn.linear_model import LinearRegression\n",
    "from sklearn.metrics import mean_squared_error, r2_score\n",
    "from sklearn.preprocessing import StandardScaler, MinMaxScaler\n"
   ]
  },
  {
   "cell_type": "code",
   "execution_count": 3,
   "id": "dc2b46a3-2544-4e9e-bcee-96ca464710d0",
   "metadata": {},
   "outputs": [
    {
     "name": "stdout",
     "output_type": "stream",
     "text": [
      "      crim    zn  indus  chas    nox     rm   age     dis  rad  tax  ptratio  \\\n",
      "0  0.00632  18.0   2.31     0  0.538  6.575  65.2  4.0900    1  296     15.3   \n",
      "1  0.02731   0.0   7.07     0  0.469  6.421  78.9  4.9671    2  242     17.8   \n",
      "2  0.02729   0.0   7.07     0  0.469  7.185  61.1  4.9671    2  242     17.8   \n",
      "3  0.03237   0.0   2.18     0  0.458  6.998  45.8  6.0622    3  222     18.7   \n",
      "4  0.06905   0.0   2.18     0  0.458  7.147  54.2  6.0622    3  222     18.7   \n",
      "\n",
      "        b  lstat  medv  \n",
      "0  396.90   4.98  24.0  \n",
      "1  396.90   9.14  21.6  \n",
      "2  392.83   4.03  34.7  \n",
      "3  394.63   2.94  33.4  \n",
      "4  396.90   5.33  36.2  \n",
      "(506, 14)\n"
     ]
    }
   ],
   "source": [
    "df = pd.read_csv(\"D:\\\\boston_housing\\\\BostonHousing.csv\") \n",
    "print(df.head())\n",
    "print(df.shape)"
   ]
  },
  {
   "cell_type": "code",
   "execution_count": 4,
   "id": "d5943ae2-c3d3-4d9e-8972-222f7be36f9f",
   "metadata": {},
   "outputs": [
    {
     "name": "stdout",
     "output_type": "stream",
     "text": [
      " Missing Values: crim       0\n",
      "zn         0\n",
      "indus      0\n",
      "chas       0\n",
      "nox        0\n",
      "rm         5\n",
      "age        0\n",
      "dis        0\n",
      "rad        0\n",
      "tax        0\n",
      "ptratio    0\n",
      "b          0\n",
      "lstat      0\n",
      "medv       0\n",
      "dtype: int64\n",
      "\n",
      "Missing values after imputation:\n",
      " crim       0\n",
      "zn         0\n",
      "indus      0\n",
      "chas       0\n",
      "nox        0\n",
      "rm         0\n",
      "age        0\n",
      "dis        0\n",
      "rad        0\n",
      "tax        0\n",
      "ptratio    0\n",
      "b          0\n",
      "lstat      0\n",
      "medv       0\n",
      "dtype: int64\n"
     ]
    }
   ],
   "source": [
    "print(\" Missing Values:\",df.isnull().sum())\n",
    "df['rm'] = df['rm'].fillna(df['rm'].mean())\n",
    "print(\"\\nMissing values after imputation:\\n\", df.isnull().sum())"
   ]
  },
  {
   "cell_type": "code",
   "execution_count": 13,
   "id": "ab59d868-cd8e-46e9-9aed-28efe9005325",
   "metadata": {},
   "outputs": [
    {
     "name": "stdout",
     "output_type": "stream",
     "text": [
      "\n",
      " Descriptive statistics:\n",
      "              crim          zn       indus        chas         nox          rm  \\\n",
      "count  506.000000  506.000000  506.000000  506.000000  506.000000  501.000000   \n",
      "mean     3.613524   11.363636   11.136779    0.069170    0.554695    6.284341   \n",
      "std      8.601545   23.322453    6.860353    0.253994    0.115878    0.705587   \n",
      "min      0.006320    0.000000    0.460000    0.000000    0.385000    3.561000   \n",
      "25%      0.082045    0.000000    5.190000    0.000000    0.449000    5.884000   \n",
      "50%      0.256510    0.000000    9.690000    0.000000    0.538000    6.208000   \n",
      "75%      3.677083   12.500000   18.100000    0.000000    0.624000    6.625000   \n",
      "max     88.976200  100.000000   27.740000    1.000000    0.871000    8.780000   \n",
      "\n",
      "              age         dis         rad         tax     ptratio           b  \\\n",
      "count  506.000000  506.000000  506.000000  506.000000  506.000000  506.000000   \n",
      "mean    68.574901    3.795043    9.549407  408.237154   18.455534  356.674032   \n",
      "std     28.148861    2.105710    8.707259  168.537116    2.164946   91.294864   \n",
      "min      2.900000    1.129600    1.000000  187.000000   12.600000    0.320000   \n",
      "25%     45.025000    2.100175    4.000000  279.000000   17.400000  375.377500   \n",
      "50%     77.500000    3.207450    5.000000  330.000000   19.050000  391.440000   \n",
      "75%     94.075000    5.188425   24.000000  666.000000   20.200000  396.225000   \n",
      "max    100.000000   12.126500   24.000000  711.000000   22.000000  396.900000   \n",
      "\n",
      "            lstat        medv  \n",
      "count  506.000000  506.000000  \n",
      "mean    12.653063   22.532806  \n",
      "std      7.141062    9.197104  \n",
      "min      1.730000    5.000000  \n",
      "25%      6.950000   17.025000  \n",
      "50%     11.360000   21.200000  \n",
      "75%     16.955000   25.000000  \n",
      "max     37.970000   50.000000  \n"
     ]
    }
   ],
   "source": [
    "print(\"\\n Descriptive statistics:\\n\", df.describe())"
   ]
  },
  {
   "cell_type": "code",
   "execution_count": 15,
   "id": "a8f68f9a-97b4-40f9-8065-30e04dc24310",
   "metadata": {},
   "outputs": [
    {
     "name": "stdout",
     "output_type": "stream",
     "text": [
      "(144, 14)\n"
     ]
    }
   ],
   "source": [
    "def remove_outliers(df, col):\n",
    "    Q1 = df[col].quantile(0.25)\n",
    "    Q3 = df[col].quantile(0.75)\n",
    "    IQR = Q3 - Q1\n",
    "    lower = Q1 - 1.5 * IQR\n",
    "    upper = Q3 + 1.5 * IQR\n",
    "    return df[(df[col] >= lower) & (df[col] <= upper)]\n",
    "# Removing outliers \n",
    "for col in df.select_dtypes(include=[np.number]).columns:\n",
    "    if col != 'chas' and col != 'medv':\n",
    "        df = remove_outliers(df, col)\n",
    "print(df.shape)"
   ]
  },
  {
   "cell_type": "code",
   "execution_count": 16,
   "id": "c69c948d-ed4f-45cb-8694-01d15e0afb22",
   "metadata": {},
   "outputs": [
    {
     "name": "stdout",
     "output_type": "stream",
     "text": [
      "Sample Scaled Data (StandardScaler):\n",
      "       crim        zn     indus      chas       nox        rm       age  \\\n",
      "3 -1.112745 -0.538354 -1.673420 -0.258199 -0.646281  1.992800 -0.386153   \n",
      "4 -0.719726 -0.538354 -1.673420 -0.258199 -0.646281  2.375465 -0.036926   \n",
      "5 -1.139746 -0.538354 -1.673420 -0.258199 -0.646281  0.534048  0.150159   \n",
      "6 -0.513573  0.427785  0.063181 -0.258199  0.757086 -0.539470  0.478599   \n",
      "7  0.089242  0.427785  0.063181 -0.258199  0.757086 -0.128554  1.705049   \n",
      "\n",
      "        dis       rad       tax   ptratio         b     lstat      medv  \n",
      "3  1.233306 -1.573133 -1.181543  0.351384  0.221386 -1.774284  2.029383  \n",
      "4  1.233306 -1.573133 -1.181543  0.351384  0.833885 -1.183342  2.611476  \n",
      "5  1.233306 -1.573133 -1.181543  0.351384  0.083776 -1.213013  1.052300  \n",
      "6  0.870304  0.584307  0.157567 -1.960594  0.483115  0.572174 -0.153463  \n",
      "7  1.152486  0.584307  0.157567 -1.960594  0.833885  2.233733  0.719675  \n"
     ]
    }
   ],
   "source": [
    "scaler = StandardScaler()\n",
    "df_scaled = df.copy()\n",
    "numeric_cols = df.select_dtypes(include=[np.number]).columns\n",
    "df_scaled[numeric_cols] = scaler.fit_transform(df[numeric_cols])\n",
    "print(\"Sample Scaled Data (StandardScaler):\")\n",
    "print(df_scaled.head())"
   ]
  },
  {
   "cell_type": "code",
   "execution_count": 17,
   "id": "4717ec75-c211-422a-b11e-b316d5a880ba",
   "metadata": {},
   "outputs": [
    {
     "name": "stdout",
     "output_type": "stream",
     "text": [
      "Sample Normalized Data (MinMaxScaler):\n",
      "       crim        zn     indus  chas       nox        rm       age       dis  \\\n",
      "3  0.007798  0.000000  0.000000   0.0  0.278409  0.856686  0.455414  0.669629   \n",
      "4  0.086810  0.000000  0.000000   0.0  0.278409  0.936068  0.544586  0.669629   \n",
      "5  0.002370  0.000000  0.000000   0.0  0.278409  0.554076  0.592357  0.669629   \n",
      "6  0.128255  0.277778  0.442457   0.0  0.653409  0.331380  0.676221  0.584692   \n",
      "7  0.249445  0.277778  0.442457   0.0  0.653409  0.416622  0.989384  0.650719   \n",
      "\n",
      "        rad       tax   ptratio         b     lstat      medv  \n",
      "3  0.000000  0.121339  0.633333  0.843015  0.003831  0.792627  \n",
      "4  0.000000  0.121339  0.633333  1.000000  0.134647  0.921659  \n",
      "5  0.000000  0.121339  0.633333  0.807746  0.128079  0.576037  \n",
      "6  0.666667  0.493724  0.050000  0.910097  0.523262  0.308756  \n",
      "7  0.666667  0.493724  0.050000  1.000000  0.891078  0.502304  \n"
     ]
    }
   ],
   "source": [
    "normalizer = MinMaxScaler()\n",
    "df_normalized = df.copy()\n",
    "df_normalized[numeric_cols] = normalizer.fit_transform(df[numeric_cols])\n",
    "print(\"Sample Normalized Data (MinMaxScaler):\")\n",
    "print(df_normalized.head())\n"
   ]
  },
  {
   "cell_type": "code",
   "execution_count": 19,
   "id": "7585cddd-3111-46f2-83b8-604d58254d75",
   "metadata": {},
   "outputs": [],
   "source": [
    "X = df.drop('medv', axis=1)  # medv=Median Home Price\n",
    "y = df['medv']\n",
    "X_train, X_test, y_train, y_test = train_test_split(X, y, test_size=0.2, random_state=42)"
   ]
  },
  {
   "cell_type": "code",
   "execution_count": 20,
   "id": "3e05e50b-f81a-46a9-9e82-90727c9ca8da",
   "metadata": {},
   "outputs": [],
   "source": [
    "model = LinearRegression()\n",
    "\n",
    "# Training\n",
    "model.fit(X_train, y_train)\n",
    "y_pred = model.predict(X_test)"
   ]
  },
  {
   "cell_type": "code",
   "execution_count": 21,
   "id": "7c3be31d-0ad6-4618-818f-deea5b76871f",
   "metadata": {},
   "outputs": [
    {
     "name": "stdout",
     "output_type": "stream",
     "text": [
      "\n",
      "Mean Squared Error (MSE): 4.50\n",
      "R-squared (R²): 0.80\n"
     ]
    }
   ],
   "source": [
    "#evaluate\n",
    "mse = mean_squared_error(y_test, y_pred)\n",
    "print(f\"\\nMean Squared Error (MSE): {mse:.2f}\")\n",
    "r2 = r2_score(y_test, y_pred)\n",
    "print(f\"R-squared (R²): {r2:.2f}\")"
   ]
  },
  {
   "cell_type": "code",
   "execution_count": 22,
   "id": "c7f5100e-0416-4426-8fd9-943f6fd9fc25",
   "metadata": {},
   "outputs": [
    {
     "data": {
      "image/png": "[encoded data removed]",
      "text/plain": [
       "<Figure size 800x600 with 1 Axes>"
      ]
     },
     "metadata": {},
     "output_type": "display_data"
    }
   ],
   "source": [
    "import matplotlib.pyplot as plt\n",
    "\n",
    "plt.figure(figsize=(8, 6))\n",
    "plt.scatter(y_test, y_pred)\n",
    "plt.plot([y_test.min(), y_test.max()], [y_test.min(), y_test.max()], color='red', linewidth=2)\n",
    "plt.title(\"Actual vs Predicted Home Prices\")\n",
    "plt.xlabel(\"Actual Prices\")\n",
    "plt.ylabel(\"Predicted Prices\")\n",
    "plt.show()"
   ]
  },
  {
   "cell_type": "code",
   "execution_count": null,
   "id": "d2c2926e-a475-4256-9ece-510108f7cb35",
   "metadata": {},
   "outputs": [],
   "source": []
  }
 ],
 "metadata": {
  "kernelspec": {
   "display_name": "Python 3 (ipykernel)",
   "language": "python",
   "name": "python3"
  },
  "language_info": {
   "codemirror_mode": {
    "name": "ipython",
    "version": 3
   },
   "file_extension": ".py",
   "mimetype": "text/x-python",
   "name": "python",
   "nbconvert_exporter": "python",
   "pygments_lexer": "ipython3",
   "version": "3.12.3"
  }
 },
 "nbformat": 4,
 "nbformat_minor": 5
}
