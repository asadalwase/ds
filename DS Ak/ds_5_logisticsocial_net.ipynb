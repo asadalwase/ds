{
 "cells": [
  {
   "cell_type": "code",
   "execution_count": 11,
   "id": "5e182e31-8313-45d0-90eb-e15ae4c9e964",
   "metadata": {},
   "outputs": [],
   "source": [
    "import pandas as pd\n",
    "import numpy as np\n",
    "import matplotlib.pyplot as plt\n",
    "import seaborn as sns\n",
    "\n",
    "from sklearn.model_selection import train_test_split\n",
    "from sklearn.preprocessing import StandardScaler\n",
    "from sklearn.linear_model import LogisticRegression\n",
    "from sklearn.metrics import confusion_matrix, accuracy_score, precision_score, recall_score"
   ]
  },
  {
   "cell_type": "code",
   "execution_count": 12,
   "id": "20d52631-1985-4af9-9342-531d292b0f6a",
   "metadata": {},
   "outputs": [
    {
     "name": "stdout",
     "output_type": "stream",
     "text": [
      "    User ID  Gender  Age  EstimatedSalary  Purchased\n",
      "0  15624510    Male   19            19000          0\n",
      "1  15810944    Male   35            20000          0\n",
      "2  15668575  Female   26            43000          0\n",
      "3  15603246  Female   27            57000          0\n",
      "4  15804002    Male   19            76000          0\n",
      "(400, 5)\n"
     ]
    }
   ],
   "source": [
    "df = pd.read_csv(\"D:\\\\Social_Network_Ads.csv\")\n",
    "print(df.head())\n",
    "print(df.shape)"
   ]
  },
  {
   "cell_type": "code",
   "execution_count": 13,
   "id": "f664eb6f-2937-4606-b8ee-7427bec52c02",
   "metadata": {},
   "outputs": [
    {
     "name": "stdout",
     "output_type": "stream",
     "text": [
      "Index(['User ID', 'Gender', 'Age', 'EstimatedSalary', 'Purchased'], dtype='object')\n"
     ]
    }
   ],
   "source": [
    "\n",
    "print(df.columns)\n",
    "df.drop(['User ID'], axis=1, inplace=True)\n",
    "\n"
   ]
  },
  {
   "cell_type": "code",
   "execution_count": 14,
   "id": "9caba205-7667-468d-a564-7884a41ad0e8",
   "metadata": {},
   "outputs": [
    {
     "name": "stdout",
     "output_type": "stream",
     "text": [
      "Missing Values: Gender             0\n",
      "Age                0\n",
      "EstimatedSalary    0\n",
      "Purchased          0\n",
      "dtype: int64\n"
     ]
    }
   ],
   "source": [
    "print(\"Missing Values:\",df.isnull().sum())\n"
   ]
  },
  {
   "cell_type": "code",
   "execution_count": 16,
   "id": "411f4dd3-fc65-44a2-b21e-6c042346bbe3",
   "metadata": {},
   "outputs": [
    {
     "name": "stdout",
     "output_type": "stream",
     "text": [
      "After Outlier Removal: (400, 4)\n"
     ]
    }
   ],
   "source": [
    "def remove_outliers(data, col):\n",
    "    Q1 = data[col].quantile(0.25)\n",
    "    Q3 = data[col].quantile(0.75)\n",
    "    IQR = Q3 - Q1\n",
    "    lower = Q1 - 1.5 * IQR\n",
    "    upper = Q3 + 1.5 * IQR\n",
    "    return data[(data[col] >= lower) & (data[col] <= upper)]\n",
    "for col in ['Age', 'EstimatedSalary']:\n",
    "    df = remove_outliers(df, col)\n",
    "\n",
    "print(\"After Outlier Removal:\", df.shape)"
   ]
  },
  {
   "cell_type": "code",
   "execution_count": 17,
   "id": "469c8304-b543-4da1-936e-155848702ce5",
   "metadata": {},
   "outputs": [],
   "source": [
    "sc = StandardScaler()\n",
    "df[['Age', 'EstimatedSalary']] = sc.fit_transform(df[['Age', 'EstimatedSalary']])\n"
   ]
  },
  {
   "cell_type": "code",
   "execution_count": 18,
   "id": "6c2c1005-05e0-40ea-a48b-282db797fe4a",
   "metadata": {},
   "outputs": [],
   "source": [
    "X = df[['Age', 'EstimatedSalary']]\n",
    "y = df['Purchased']\n",
    "\n",
    "X_train, X_test, y_train, y_test = train_test_split(X, y, test_size=0.25, random_state=0)"
   ]
  },
  {
   "cell_type": "code",
   "execution_count": 19,
   "id": "0e4b5da0-c842-401d-a78a-26e8ca94023c",
   "metadata": {},
   "outputs": [],
   "source": [
    "model = LogisticRegression()\n",
    "model.fit(X_train, y_train)\n",
    "\n",
    "y_pred = model.predict(X_test)\n"
   ]
  },
  {
   "cell_type": "code",
   "execution_count": 20,
   "id": "505a80a9-ad87-4d4c-9d43-ed824690907d",
   "metadata": {},
   "outputs": [
    {
     "name": "stdout",
     "output_type": "stream",
     "text": [
      "Confusion Matrix:\n",
      "[[65  3]\n",
      " [ 8 24]]\n",
      " True Positives (TP): 24\n",
      "True Negatives (TN): 65\n",
      "False Positives (FP): 3\n",
      "False Negatives (FN): 8\n",
      "\n",
      " Accuracy      : 0.89\n",
      "Error Rate    : 0.11\n",
      "Precision     : 0.89\n",
      "Recall        : 0.75\n"
     ]
    }
   ],
   "source": [
    "cm = confusion_matrix(y_test, y_pred)\n",
    "TP = cm[1, 1]\n",
    "TN = cm[0, 0]\n",
    "FP = cm[0, 1]\n",
    "FN = cm[1, 0]\n",
    "\n",
    "print(\"Confusion Matrix:\")\n",
    "print(cm)\n",
    "accuracy = accuracy_score(y_test, y_pred)\n",
    "error_rate = 1 - accuracy\n",
    "precision = precision_score(y_test, y_pred)\n",
    "recall = recall_score(y_test, y_pred)\n",
    "\n",
    "print(f\" True Positives (TP): {TP}\")\n",
    "print(f\"True Negatives (TN): {TN}\")\n",
    "print(f\"False Positives (FP): {FP}\")\n",
    "print(f\"False Negatives (FN): {FN}\")\n",
    "print(f\"\\n Accuracy      : {accuracy:.2f}\")\n",
    "print(f\"Error Rate    : {error_rate:.2f}\")\n",
    "print(f\"Precision     : {precision:.2f}\")\n",
    "print(f\"Recall        : {recall:.2f}\")"
   ]
  },
  {
   "cell_type": "code",
   "execution_count": 21,
   "id": "405f9a81-20bb-48e1-aeaf-def3cd3eccd1",
   "metadata": {},
   "outputs": [
    {
     "data": {
      "image/png": "[encoded data removed]",
      "text/plain": [
       "<Figure size 640x480 with 2 Axes>"
      ]
     },
     "metadata": {},
     "output_type": "display_data"
    }
   ],
   "source": [
    "from sklearn.metrics import ConfusionMatrixDisplay\n",
    "\n",
    "ConfusionMatrixDisplay(confusion_matrix=cm, display_labels=['Not Purchased', 'Purchased']).plot(cmap='Blues')\n",
    "plt.title(\" Confusion Matrix - Logistic Regression\")\n",
    "plt.show()\n"
   ]
  },
  {
   "cell_type": "code",
   "execution_count": null,
   "id": "e5df4eac-5d04-423d-8380-f849d4d9f204",
   "metadata": {},
   "outputs": [],
   "source": []
  }
 ],
 "metadata": {
  "kernelspec": {
   "display_name": "Python 3 (ipykernel)",
   "language": "python",
   "name": "python3"
  },
  "language_info": {
   "codemirror_mode": {
    "name": "ipython",
    "version": 3
   },
   "file_extension": ".py",
   "mimetype": "text/x-python",
   "name": "python",
   "nbconvert_exporter": "python",
   "pygments_lexer": "ipython3",
   "version": "3.12.3"
  }
 },
 "nbformat": 4,
 "nbformat_minor": 5
}
